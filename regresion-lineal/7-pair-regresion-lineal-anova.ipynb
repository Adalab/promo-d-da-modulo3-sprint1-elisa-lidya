{
 "cells": [
  {
   "attachments": {},
   "cell_type": "markdown",
   "metadata": {},
   "source": [
    "# **Ejercicios de pair programming Módulo 3 Sprint 1**\n",
    "## **Regresión lineal: Lección 7**\n",
    "### **ANOVA**\n",
    "\n",
    "---"
   ]
  },
  {
   "attachments": {},
   "cell_type": "markdown",
   "metadata": {},
   "source": [
    "En el pair programming de hoy usaremos el set de datos que guardastéis en el pair programming de normalización y estandarización.\n",
    "\n",
    "Hasta ahora habéis estado evaluando las características de vuestro set de datos y habéis hecho una gran exploración, es el momento de hacer vuestro primer ANOVA! En el ejercicio de hoy tendréis que hacer un ANOVA con vuestro datos y hacer una interpretación de los resultados.\n",
    "\n",
    "📌 NOTA Puede que vuestros datos no se ajusten o no cumplan todas las asunciones, no pasa nada, haced el ANOVA e interpretad los resultados. En próximas lecciones aprenderemos que podemos hacer cuando nos encontramos en esta situación."
   ]
  },
  {
   "cell_type": "code",
   "execution_count": 1,
   "metadata": {},
   "outputs": [],
   "source": [
    "# Tratamiento de datos\n",
    "# -----------------------------------------------------------------------\n",
    "import numpy as np\n",
    "import pandas as pd\n",
    "import random \n",
    "\n",
    "# Gráficos\n",
    "# ------------------------------------------------------------------------------\n",
    "import matplotlib.pyplot as plt\n",
    "import seaborn as sns\n",
    "\n",
    "# Estadísticos\n",
    "# ------------------------------------------------------------------------------\n",
    "import statsmodels.api as sm\n",
    "from statsmodels.formula.api import ols\n",
    "from statsmodels.multivariate.manova import MANOVA\n",
    "from sklearn.preprocessing import StandardScaler\n",
    "\n",
    "# Para navegar entre directorios\n",
    "# -----------------------------\n",
    "import os\n",
    "\n",
    "plt.rcParams[\"figure.figsize\"] = (10,8)"
   ]
  },
  {
   "cell_type": "code",
   "execution_count": 2,
   "metadata": {},
   "outputs": [
    {
     "data": {
      "text/plain": [
       "'/mnt/c/Users/lidya/Documents/Nuestros documentos/Documentos de Lidya/Estudios/Adalab/modulos/modulo3/pair_programming/promo-d-da-modulo3-sprint1-elisa-lidya/regresion-lineal'"
      ]
     },
     "execution_count": 2,
     "metadata": {},
     "output_type": "execute_result"
    }
   ],
   "source": [
    "os.getcwd()"
   ]
  },
  {
   "cell_type": "code",
   "execution_count": 3,
   "metadata": {},
   "outputs": [],
   "source": [
    "os.chdir('/mnt/c/Users/lidya/Documents/Nuestros documentos/Documentos de Lidya/Estudios/Adalab/modulos/modulo3/pair_programming/promo-d-da-modulo3-sprint1-elisa-lidya/regresion-lineal')"
   ]
  },
  {
   "cell_type": "code",
   "execution_count": 4,
   "metadata": {},
   "outputs": [
    {
     "data": {
      "text/html": [
       "<div>\n",
       "<style scoped>\n",
       "    .dataframe tbody tr th:only-of-type {\n",
       "        vertical-align: middle;\n",
       "    }\n",
       "\n",
       "    .dataframe tbody tr th {\n",
       "        vertical-align: top;\n",
       "    }\n",
       "\n",
       "    .dataframe thead th {\n",
       "        text-align: right;\n",
       "    }\n",
       "</style>\n",
       "<table border=\"1\" class=\"dataframe\">\n",
       "  <thead>\n",
       "    <tr style=\"text-align: right;\">\n",
       "      <th></th>\n",
       "      <th>country</th>\n",
       "      <th>Region</th>\n",
       "      <th>Population in millions (2017)</th>\n",
       "      <th>Population density (per km2, 2017)</th>\n",
       "      <th>Urban population (% of total population)_y</th>\n",
       "      <th>GDP per capita (current US$)</th>\n",
       "      <th>Health: Total expenditure (% of GDP)</th>\n",
       "      <th>Health Care Index</th>\n",
       "      <th>Health: Physicians (per 1000 pop.)</th>\n",
       "      <th>Quantity of Physicians (per 1000 pop.)</th>\n",
       "      <th>Quality Of Life Index</th>\n",
       "      <th>Purchasing Power Index</th>\n",
       "      <th>Safety Index</th>\n",
       "      <th>Pop. using improved drinking water: urban(%)</th>\n",
       "      <th>Pop. using improved drinking water: rural (%)</th>\n",
       "      <th>Pollution index</th>\n",
       "      <th>Life expectancy at birth, total (bc-normalized)</th>\n",
       "    </tr>\n",
       "  </thead>\n",
       "  <tbody>\n",
       "    <tr>\n",
       "      <th>0</th>\n",
       "      <td>Argentina</td>\n",
       "      <td>SouthAmerica</td>\n",
       "      <td>-0.178879</td>\n",
       "      <td>-0.273196</td>\n",
       "      <td>1.103154</td>\n",
       "      <td>-0.439011</td>\n",
       "      <td>-1.075299</td>\n",
       "      <td>0.742566</td>\n",
       "      <td>0.906869</td>\n",
       "      <td>Muchos</td>\n",
       "      <td>0.131610</td>\n",
       "      <td>-0.436682</td>\n",
       "      <td>-1.655219</td>\n",
       "      <td>0.201586</td>\n",
       "      <td>0.587938</td>\n",
       "      <td>0.057166</td>\n",
       "      <td>1.596496e+11</td>\n",
       "    </tr>\n",
       "    <tr>\n",
       "      <th>1</th>\n",
       "      <td>Australia</td>\n",
       "      <td>Oceania</td>\n",
       "      <td>-0.262734</td>\n",
       "      <td>-0.283298</td>\n",
       "      <td>0.771296</td>\n",
       "      <td>1.362030</td>\n",
       "      <td>0.630170</td>\n",
       "      <td>0.837385</td>\n",
       "      <td>0.552498</td>\n",
       "      <td>Medios</td>\n",
       "      <td>1.015861</td>\n",
       "      <td>1.027351</td>\n",
       "      <td>-0.217071</td>\n",
       "      <td>0.669888</td>\n",
       "      <td>0.693603</td>\n",
       "      <td>-1.285658</td>\n",
       "      <td>2.611737e+11</td>\n",
       "    </tr>\n",
       "  </tbody>\n",
       "</table>\n",
       "</div>"
      ],
      "text/plain": [
       "     country        Region  Population in millions (2017)  \\\n",
       "0  Argentina  SouthAmerica                      -0.178879   \n",
       "1  Australia       Oceania                      -0.262734   \n",
       "\n",
       "   Population density (per km2, 2017)  \\\n",
       "0                           -0.273196   \n",
       "1                           -0.283298   \n",
       "\n",
       "   Urban population (% of total population)_y  GDP per capita (current US$)  \\\n",
       "0                                    1.103154                     -0.439011   \n",
       "1                                    0.771296                      1.362030   \n",
       "\n",
       "   Health: Total expenditure (% of GDP)  Health Care Index  \\\n",
       "0                             -1.075299           0.742566   \n",
       "1                              0.630170           0.837385   \n",
       "\n",
       "   Health: Physicians (per 1000 pop.) Quantity of Physicians (per 1000 pop.)  \\\n",
       "0                            0.906869                                 Muchos   \n",
       "1                            0.552498                                 Medios   \n",
       "\n",
       "   Quality Of Life Index  Purchasing Power Index  Safety Index  \\\n",
       "0               0.131610               -0.436682     -1.655219   \n",
       "1               1.015861                1.027351     -0.217071   \n",
       "\n",
       "   Pop. using improved drinking water: urban(%)  \\\n",
       "0                                      0.201586   \n",
       "1                                      0.669888   \n",
       "\n",
       "   Pop. using improved drinking water: rural (%)  Pollution index  \\\n",
       "0                                       0.587938         0.057166   \n",
       "1                                       0.693603        -1.285658   \n",
       "\n",
       "   Life expectancy at birth, total (bc-normalized)  \n",
       "0                                     1.596496e+11  \n",
       "1                                     2.611737e+11  "
      ]
     },
     "execution_count": 4,
     "metadata": {},
     "output_type": "execute_result"
    }
   ],
   "source": [
    "df_socio = pd.read_csv('../datos/esperanza_vida_transformado.csv', index_col=0)\n",
    "df_socio.head(2)"
   ]
  },
  {
   "cell_type": "code",
   "execution_count": 7,
   "metadata": {},
   "outputs": [
    {
     "ename": "PatsyError",
     "evalue": "error tokenizing input (maybe an unclosed string?)\n    Life expectancy at birth, total (bc-normalized) ~ country + Region + Population in millions (2017) + Population density (per km2, 2017) +        Urban population (% of total population)_y + GDP per capita (current US$) + Health: Total expenditure (% of GDP) +        Health Care Index + Health: Physicians (per 1000 pop.) + Quantity of Physicians (per 1000 pop.) + Quality Of Life Index +         Purchasing Power Index + Safety Index + Pop. using improved drinking water: urban(%) + Pop. using improved drinking water: rural (%) + Pollution index\n                                                                                                                                                                                                                            ^",
     "output_type": "error",
     "traceback": [
      "\u001b[0;31m---------------------------------------------------------------------------\u001b[0m",
      "\u001b[0;31mPatsyError\u001b[0m                                Traceback (most recent call last)",
      "\u001b[1;32m/mnt/c/Users/lidya/Documents/Nuestros documentos/Documentos de Lidya/Estudios/Adalab/modulos/modulo3/pair_programming/promo-d-da-modulo3-sprint1-elisa-lidya/regresion-lineal/7-pair-regresion-lineal-anova.ipynb Celda 7\u001b[0m in \u001b[0;36m1\n\u001b[0;32m----> <a href='vscode-notebook-cell://wsl%2Bubuntu-18.04/mnt/c/Users/lidya/Documents/Nuestros%20documentos/Documentos%20de%20Lidya/Estudios/Adalab/modulos/modulo3/pair_programming/promo-d-da-modulo3-sprint1-elisa-lidya/regresion-lineal/7-pair-regresion-lineal-anova.ipynb#X11sdnNjb2RlLXJlbW90ZQ%3D%3D?line=0'>1</a>\u001b[0m anova \u001b[39m=\u001b[39m ols(\u001b[39m\"\"\"\u001b[39;49m\u001b[39mLife expectancy at birth, total (bc-normalized) ~ country + Region + Population in millions (2017) + Population density (per km2, 2017) +\u001b[39;49m\n\u001b[1;32m      <a href='vscode-notebook-cell://wsl%2Bubuntu-18.04/mnt/c/Users/lidya/Documents/Nuestros%20documentos/Documentos%20de%20Lidya/Estudios/Adalab/modulos/modulo3/pair_programming/promo-d-da-modulo3-sprint1-elisa-lidya/regresion-lineal/7-pair-regresion-lineal-anova.ipynb#X11sdnNjb2RlLXJlbW90ZQ%3D%3D?line=1'>2</a>\u001b[0m \u001b[39m       Urban population (\u001b[39;49m\u001b[39m% o\u001b[39;49;00m\u001b[39mf total population)_y + GDP per capita (current US$) + Health: Total expenditure (\u001b[39;49m\u001b[39m% o\u001b[39;49;00m\u001b[39mf GDP) +\u001b[39;49m\n\u001b[1;32m      <a href='vscode-notebook-cell://wsl%2Bubuntu-18.04/mnt/c/Users/lidya/Documents/Nuestros%20documentos/Documentos%20de%20Lidya/Estudios/Adalab/modulos/modulo3/pair_programming/promo-d-da-modulo3-sprint1-elisa-lidya/regresion-lineal/7-pair-regresion-lineal-anova.ipynb#X11sdnNjb2RlLXJlbW90ZQ%3D%3D?line=2'>3</a>\u001b[0m \u001b[39m       Health Care Index + Health: Physicians (per 1000 pop.) + Quantity of Physicians (per 1000 pop.) + Quality Of Life Index + \u001b[39;49m\n\u001b[1;32m      <a href='vscode-notebook-cell://wsl%2Bubuntu-18.04/mnt/c/Users/lidya/Documents/Nuestros%20documentos/Documentos%20de%20Lidya/Estudios/Adalab/modulos/modulo3/pair_programming/promo-d-da-modulo3-sprint1-elisa-lidya/regresion-lineal/7-pair-regresion-lineal-anova.ipynb#X11sdnNjb2RlLXJlbW90ZQ%3D%3D?line=3'>4</a>\u001b[0m \u001b[39m       Purchasing Power Index + Safety Index + Pop. using improved drinking water: urban(\u001b[39;49m\u001b[39m%\u001b[39;49m\u001b[39m) + Pop. using improved drinking water: rural (\u001b[39;49m\u001b[39m%\u001b[39;49m\u001b[39m) + Pollution index\u001b[39;49m\u001b[39m\"\"\"\u001b[39;49m, data \u001b[39m=\u001b[39;49m df_socio)\u001b[39m.\u001b[39mfit()\n\u001b[1;32m      <a href='vscode-notebook-cell://wsl%2Bubuntu-18.04/mnt/c/Users/lidya/Documents/Nuestros%20documentos/Documentos%20de%20Lidya/Estudios/Adalab/modulos/modulo3/pair_programming/promo-d-da-modulo3-sprint1-elisa-lidya/regresion-lineal/7-pair-regresion-lineal-anova.ipynb#X11sdnNjb2RlLXJlbW90ZQ%3D%3D?line=5'>6</a>\u001b[0m sm\u001b[39m.\u001b[39mstats\u001b[39m.\u001b[39manova_lm(anova)\n",
      "File \u001b[0;32m~/anaconda3/envs/adalabenv/lib/python3.10/site-packages/statsmodels/base/model.py:200\u001b[0m, in \u001b[0;36mModel.from_formula\u001b[0;34m(cls, formula, data, subset, drop_cols, *args, **kwargs)\u001b[0m\n\u001b[1;32m    197\u001b[0m \u001b[39mif\u001b[39;00m missing \u001b[39m==\u001b[39m \u001b[39m'\u001b[39m\u001b[39mnone\u001b[39m\u001b[39m'\u001b[39m:  \u001b[39m# with patsy it's drop or raise. let's raise.\u001b[39;00m\n\u001b[1;32m    198\u001b[0m     missing \u001b[39m=\u001b[39m \u001b[39m'\u001b[39m\u001b[39mraise\u001b[39m\u001b[39m'\u001b[39m\n\u001b[0;32m--> 200\u001b[0m tmp \u001b[39m=\u001b[39m handle_formula_data(data, \u001b[39mNone\u001b[39;49;00m, formula, depth\u001b[39m=\u001b[39;49meval_env,\n\u001b[1;32m    201\u001b[0m                           missing\u001b[39m=\u001b[39;49mmissing)\n\u001b[1;32m    202\u001b[0m ((endog, exog), missing_idx, design_info) \u001b[39m=\u001b[39m tmp\n\u001b[1;32m    203\u001b[0m max_endog \u001b[39m=\u001b[39m \u001b[39mcls\u001b[39m\u001b[39m.\u001b[39m_formula_max_endog\n",
      "File \u001b[0;32m~/anaconda3/envs/adalabenv/lib/python3.10/site-packages/statsmodels/formula/formulatools.py:63\u001b[0m, in \u001b[0;36mhandle_formula_data\u001b[0;34m(Y, X, formula, depth, missing)\u001b[0m\n\u001b[1;32m     61\u001b[0m \u001b[39melse\u001b[39;00m:\n\u001b[1;32m     62\u001b[0m     \u001b[39mif\u001b[39;00m data_util\u001b[39m.\u001b[39m_is_using_pandas(Y, \u001b[39mNone\u001b[39;00m):\n\u001b[0;32m---> 63\u001b[0m         result \u001b[39m=\u001b[39m dmatrices(formula, Y, depth, return_type\u001b[39m=\u001b[39;49m\u001b[39m'\u001b[39;49m\u001b[39mdataframe\u001b[39;49m\u001b[39m'\u001b[39;49m,\n\u001b[1;32m     64\u001b[0m                            NA_action\u001b[39m=\u001b[39;49mna_action)\n\u001b[1;32m     65\u001b[0m     \u001b[39melse\u001b[39;00m:\n\u001b[1;32m     66\u001b[0m         result \u001b[39m=\u001b[39m dmatrices(formula, Y, depth, return_type\u001b[39m=\u001b[39m\u001b[39m'\u001b[39m\u001b[39mdataframe\u001b[39m\u001b[39m'\u001b[39m,\n\u001b[1;32m     67\u001b[0m                            NA_action\u001b[39m=\u001b[39mna_action)\n",
      "File \u001b[0;32m~/anaconda3/envs/adalabenv/lib/python3.10/site-packages/patsy/highlevel.py:309\u001b[0m, in \u001b[0;36mdmatrices\u001b[0;34m(formula_like, data, eval_env, NA_action, return_type)\u001b[0m\n\u001b[1;32m    299\u001b[0m \u001b[39m\"\"\"Construct two design matrices given a formula_like and data.\u001b[39;00m\n\u001b[1;32m    300\u001b[0m \n\u001b[1;32m    301\u001b[0m \u001b[39mThis function is identical to :func:`dmatrix`, except that it requires\u001b[39;00m\n\u001b[0;32m   (...)\u001b[0m\n\u001b[1;32m    306\u001b[0m \u001b[39mSee :func:`dmatrix` for details.\u001b[39;00m\n\u001b[1;32m    307\u001b[0m \u001b[39m\"\"\"\u001b[39;00m\n\u001b[1;32m    308\u001b[0m eval_env \u001b[39m=\u001b[39m EvalEnvironment\u001b[39m.\u001b[39mcapture(eval_env, reference\u001b[39m=\u001b[39m\u001b[39m1\u001b[39m)\n\u001b[0;32m--> 309\u001b[0m (lhs, rhs) \u001b[39m=\u001b[39m _do_highlevel_design(formula_like, data, eval_env,\n\u001b[1;32m    310\u001b[0m                                   NA_action, return_type)\n\u001b[1;32m    311\u001b[0m \u001b[39mif\u001b[39;00m lhs\u001b[39m.\u001b[39mshape[\u001b[39m1\u001b[39m] \u001b[39m==\u001b[39m \u001b[39m0\u001b[39m:\n\u001b[1;32m    312\u001b[0m     \u001b[39mraise\u001b[39;00m PatsyError(\u001b[39m\"\u001b[39m\u001b[39mmodel is missing required outcome variables\u001b[39m\u001b[39m\"\u001b[39m)\n",
      "File \u001b[0;32m~/anaconda3/envs/adalabenv/lib/python3.10/site-packages/patsy/highlevel.py:164\u001b[0m, in \u001b[0;36m_do_highlevel_design\u001b[0;34m(formula_like, data, eval_env, NA_action, return_type)\u001b[0m\n\u001b[1;32m    162\u001b[0m \u001b[39mdef\u001b[39;00m \u001b[39mdata_iter_maker\u001b[39m():\n\u001b[1;32m    163\u001b[0m     \u001b[39mreturn\u001b[39;00m \u001b[39miter\u001b[39m([data])\n\u001b[0;32m--> 164\u001b[0m design_infos \u001b[39m=\u001b[39m _try_incr_builders(formula_like, data_iter_maker, eval_env,\n\u001b[1;32m    165\u001b[0m                                   NA_action)\n\u001b[1;32m    166\u001b[0m \u001b[39mif\u001b[39;00m design_infos \u001b[39mis\u001b[39;00m \u001b[39mnot\u001b[39;00m \u001b[39mNone\u001b[39;00m:\n\u001b[1;32m    167\u001b[0m     \u001b[39mreturn\u001b[39;00m build_design_matrices(design_infos, data,\n\u001b[1;32m    168\u001b[0m                                  NA_action\u001b[39m=\u001b[39mNA_action,\n\u001b[1;32m    169\u001b[0m                                  return_type\u001b[39m=\u001b[39mreturn_type)\n",
      "File \u001b[0;32m~/anaconda3/envs/adalabenv/lib/python3.10/site-packages/patsy/highlevel.py:62\u001b[0m, in \u001b[0;36m_try_incr_builders\u001b[0;34m(formula_like, data_iter_maker, eval_env, NA_action)\u001b[0m\n\u001b[1;32m     55\u001b[0m         \u001b[39mraise\u001b[39;00m PatsyError(\n\u001b[1;32m     56\u001b[0m             \u001b[39m\"\u001b[39m\u001b[39mOn Python 2, formula strings must be either \u001b[39m\u001b[39m'\u001b[39m\u001b[39mstr\u001b[39m\u001b[39m'\u001b[39m\u001b[39m objects, \u001b[39m\u001b[39m\"\u001b[39m\n\u001b[1;32m     57\u001b[0m             \u001b[39m\"\u001b[39m\u001b[39mor else \u001b[39m\u001b[39m'\u001b[39m\u001b[39municode\u001b[39m\u001b[39m'\u001b[39m\u001b[39m objects containing only ascii \u001b[39m\u001b[39m\"\u001b[39m\n\u001b[1;32m     58\u001b[0m             \u001b[39m\"\u001b[39m\u001b[39mcharacters. You passed a unicode string with non-ascii \u001b[39m\u001b[39m\"\u001b[39m\n\u001b[1;32m     59\u001b[0m             \u001b[39m\"\u001b[39m\u001b[39mcharacters. I\u001b[39m\u001b[39m'\u001b[39m\u001b[39mm afraid you\u001b[39m\u001b[39m'\u001b[39m\u001b[39mll have to either switch to \u001b[39m\u001b[39m\"\u001b[39m\n\u001b[1;32m     60\u001b[0m             \u001b[39m\"\u001b[39m\u001b[39mascii-only, or else upgrade to Python 3.\u001b[39m\u001b[39m\"\u001b[39m)\n\u001b[1;32m     61\u001b[0m \u001b[39mif\u001b[39;00m \u001b[39misinstance\u001b[39m(formula_like, \u001b[39mstr\u001b[39m):\n\u001b[0;32m---> 62\u001b[0m     formula_like \u001b[39m=\u001b[39m ModelDesc\u001b[39m.\u001b[39;49mfrom_formula(formula_like)\n\u001b[1;32m     63\u001b[0m     \u001b[39m# fallthrough\u001b[39;00m\n\u001b[1;32m     64\u001b[0m \u001b[39mif\u001b[39;00m \u001b[39misinstance\u001b[39m(formula_like, ModelDesc):\n",
      "File \u001b[0;32m~/anaconda3/envs/adalabenv/lib/python3.10/site-packages/patsy/desc.py:164\u001b[0m, in \u001b[0;36mModelDesc.from_formula\u001b[0;34m(cls, tree_or_string)\u001b[0m\n\u001b[1;32m    162\u001b[0m     tree \u001b[39m=\u001b[39m tree_or_string\n\u001b[1;32m    163\u001b[0m \u001b[39melse\u001b[39;00m:\n\u001b[0;32m--> 164\u001b[0m     tree \u001b[39m=\u001b[39m parse_formula(tree_or_string)\n\u001b[1;32m    165\u001b[0m value \u001b[39m=\u001b[39m Evaluator()\u001b[39m.\u001b[39meval(tree, require_evalexpr\u001b[39m=\u001b[39m\u001b[39mFalse\u001b[39;00m)\n\u001b[1;32m    166\u001b[0m \u001b[39massert\u001b[39;00m \u001b[39misinstance\u001b[39m(value, \u001b[39mcls\u001b[39m)\n",
      "File \u001b[0;32m~/anaconda3/envs/adalabenv/lib/python3.10/site-packages/patsy/parse_formula.py:146\u001b[0m, in \u001b[0;36mparse_formula\u001b[0;34m(code, extra_operators)\u001b[0m\n\u001b[1;32m    144\u001b[0m operators \u001b[39m=\u001b[39m _default_ops \u001b[39m+\u001b[39m extra_operators\n\u001b[1;32m    145\u001b[0m operator_strings \u001b[39m=\u001b[39m [op\u001b[39m.\u001b[39mtoken_type \u001b[39mfor\u001b[39;00m op \u001b[39min\u001b[39;00m operators]\n\u001b[0;32m--> 146\u001b[0m tree \u001b[39m=\u001b[39m infix_parse(_tokenize_formula(code, operator_strings),\n\u001b[1;32m    147\u001b[0m                    operators,\n\u001b[1;32m    148\u001b[0m                    _atomic_token_types)\n\u001b[1;32m    149\u001b[0m \u001b[39mif\u001b[39;00m \u001b[39mnot\u001b[39;00m \u001b[39misinstance\u001b[39m(tree, ParseNode) \u001b[39mor\u001b[39;00m tree\u001b[39m.\u001b[39mtype \u001b[39m!=\u001b[39m \u001b[39m\"\u001b[39m\u001b[39m~\u001b[39m\u001b[39m\"\u001b[39m:\n\u001b[1;32m    150\u001b[0m     tree \u001b[39m=\u001b[39m ParseNode(\u001b[39m\"\u001b[39m\u001b[39m~\u001b[39m\u001b[39m\"\u001b[39m, \u001b[39mNone\u001b[39;00m, [tree], tree\u001b[39m.\u001b[39morigin)\n",
      "File \u001b[0;32m~/anaconda3/envs/adalabenv/lib/python3.10/site-packages/patsy/infix_parser.py:210\u001b[0m, in \u001b[0;36minfix_parse\u001b[0;34m(tokens, operators, atomic_types, trace)\u001b[0m\n\u001b[1;32m    205\u001b[0m \u001b[39m# This is an implementation of Dijkstra's shunting yard algorithm:\u001b[39;00m\n\u001b[1;32m    206\u001b[0m \u001b[39m#   http://en.wikipedia.org/wiki/Shunting_yard_algorithm\u001b[39;00m\n\u001b[1;32m    207\u001b[0m \u001b[39m#   http://www.engr.mun.ca/~theo/Misc/exp_parsing.htm\u001b[39;00m\n\u001b[1;32m    209\u001b[0m want_noun \u001b[39m=\u001b[39m \u001b[39mTrue\u001b[39;00m\n\u001b[0;32m--> 210\u001b[0m \u001b[39mfor\u001b[39;00m token \u001b[39min\u001b[39;00m token_source:\n\u001b[1;32m    211\u001b[0m     \u001b[39mif\u001b[39;00m c\u001b[39m.\u001b[39mtrace:\n\u001b[1;32m    212\u001b[0m         \u001b[39mprint\u001b[39m(\u001b[39m\"\u001b[39m\u001b[39mReading next token (want_noun=\u001b[39m\u001b[39m%r\u001b[39;00m\u001b[39m)\u001b[39m\u001b[39m\"\u001b[39m \u001b[39m%\u001b[39m (want_noun,))\n",
      "File \u001b[0;32m~/anaconda3/envs/adalabenv/lib/python3.10/site-packages/patsy/parse_formula.py:94\u001b[0m, in \u001b[0;36m_tokenize_formula\u001b[0;34m(code, operator_strings)\u001b[0m\n\u001b[1;32m     92\u001b[0m \u001b[39melse\u001b[39;00m:\n\u001b[1;32m     93\u001b[0m     it\u001b[39m.\u001b[39mpush_back((pytype, token_string, origin))\n\u001b[0;32m---> 94\u001b[0m     \u001b[39myield\u001b[39;00m _read_python_expr(it, end_tokens)\n",
      "File \u001b[0;32m~/anaconda3/envs/adalabenv/lib/python3.10/site-packages/patsy/parse_formula.py:44\u001b[0m, in \u001b[0;36m_read_python_expr\u001b[0;34m(it, end_tokens)\u001b[0m\n\u001b[1;32m     42\u001b[0m origins \u001b[39m=\u001b[39m []\n\u001b[1;32m     43\u001b[0m bracket_level \u001b[39m=\u001b[39m \u001b[39m0\u001b[39m\n\u001b[0;32m---> 44\u001b[0m \u001b[39mfor\u001b[39;00m pytype, token_string, origin \u001b[39min\u001b[39;00m it:\n\u001b[1;32m     45\u001b[0m     \u001b[39massert\u001b[39;00m bracket_level \u001b[39m>\u001b[39m\u001b[39m=\u001b[39m \u001b[39m0\u001b[39m\n\u001b[1;32m     46\u001b[0m     \u001b[39mif\u001b[39;00m bracket_level \u001b[39m==\u001b[39m \u001b[39m0\u001b[39m \u001b[39mand\u001b[39;00m token_string \u001b[39min\u001b[39;00m end_tokens:\n",
      "File \u001b[0;32m~/anaconda3/envs/adalabenv/lib/python3.10/site-packages/patsy/util.py:349\u001b[0m, in \u001b[0;36mPushbackAdapter.next\u001b[0;34m(self)\u001b[0m\n\u001b[1;32m    346\u001b[0m     \u001b[39mreturn\u001b[39;00m \u001b[39mself\u001b[39m\u001b[39m.\u001b[39m_pushed\u001b[39m.\u001b[39mpop()\n\u001b[1;32m    347\u001b[0m \u001b[39melse\u001b[39;00m:\n\u001b[1;32m    348\u001b[0m     \u001b[39m# May raise StopIteration\u001b[39;00m\n\u001b[0;32m--> 349\u001b[0m     \u001b[39mreturn\u001b[39;00m six\u001b[39m.\u001b[39;49madvance_iterator(\u001b[39mself\u001b[39;49m\u001b[39m.\u001b[39;49m_it)\n",
      "File \u001b[0;32m~/anaconda3/envs/adalabenv/lib/python3.10/site-packages/patsy/tokens.py:40\u001b[0m, in \u001b[0;36mpython_tokenize\u001b[0;34m(code)\u001b[0m\n\u001b[1;32m     38\u001b[0m     \u001b[39mcontinue\u001b[39;00m\n\u001b[1;32m     39\u001b[0m \u001b[39mif\u001b[39;00m pytype \u001b[39m==\u001b[39m tokenize\u001b[39m.\u001b[39mERRORTOKEN:\n\u001b[0;32m---> 40\u001b[0m     \u001b[39mraise\u001b[39;00m PatsyError(\u001b[39m\"\u001b[39m\u001b[39merror tokenizing input \u001b[39m\u001b[39m\"\u001b[39m\n\u001b[1;32m     41\u001b[0m                      \u001b[39m\"\u001b[39m\u001b[39m(maybe an unclosed string?)\u001b[39m\u001b[39m\"\u001b[39m,\n\u001b[1;32m     42\u001b[0m                      origin)\n\u001b[1;32m     43\u001b[0m \u001b[39mif\u001b[39;00m pytype \u001b[39m==\u001b[39m tokenize\u001b[39m.\u001b[39mCOMMENT:\n\u001b[1;32m     44\u001b[0m     \u001b[39mraise\u001b[39;00m PatsyError(\u001b[39m\"\u001b[39m\u001b[39mcomments are not allowed\u001b[39m\u001b[39m\"\u001b[39m, origin)\n",
      "\u001b[0;31mPatsyError\u001b[0m: error tokenizing input (maybe an unclosed string?)\n    Life expectancy at birth, total (bc-normalized) ~ country + Region + Population in millions (2017) + Population density (per km2, 2017) +        Urban population (% of total population)_y + GDP per capita (current US$) + Health: Total expenditure (% of GDP) +        Health Care Index + Health: Physicians (per 1000 pop.) + Quantity of Physicians (per 1000 pop.) + Quality Of Life Index +         Purchasing Power Index + Safety Index + Pop. using improved drinking water: urban(%) + Pop. using improved drinking water: rural (%) + Pollution index\n                                                                                                                                                                                                                            ^"
     ]
    }
   ],
   "source": [
    "anova = ols(\"\"\"Life expectancy at birth, total (bc-normalized) ~ country + Region + Population in millions (2017) + Population density (per km2, 2017) +\n",
    "       Urban population (% of total population)_y + GDP per capita (current US$) + Health: Total expenditure (% of GDP) +\n",
    "       Health Care Index + Health: Physicians (per 1000 pop.) + Quantity of Physicians (per 1000 pop.) + Quality Of Life Index + \n",
    "       Purchasing Power Index + Safety Index + Pop. using improved drinking water: urban(%) + Pop. using improved drinking water: rural (%) + Pollution index\"\"\", data = df_socio).fit()\n",
    "\n",
    "sm.stats.anova_lm(anova)"
   ]
  }
 ],
 "metadata": {
  "kernelspec": {
   "display_name": "adalabenv",
   "language": "python",
   "name": "python3"
  },
  "language_info": {
   "codemirror_mode": {
    "name": "ipython",
    "version": 3
   },
   "file_extension": ".py",
   "mimetype": "text/x-python",
   "name": "python",
   "nbconvert_exporter": "python",
   "pygments_lexer": "ipython3",
   "version": "3.10.9"
  },
  "orig_nbformat": 4
 },
 "nbformat": 4,
 "nbformat_minor": 2
}
