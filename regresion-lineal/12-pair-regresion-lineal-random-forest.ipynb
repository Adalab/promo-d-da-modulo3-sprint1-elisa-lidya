{
 "cells": [
  {
   "attachments": {},
   "cell_type": "markdown",
   "metadata": {},
   "source": [
    "# **Ejercicios de pair programming Módulo 3 Sprint 1**\n",
    "## **Regresión lineal: Lección 12**\n",
    "### **Random Forest**\n",
    "\n",
    "---"
   ]
  },
  {
   "cell_type": "code",
   "execution_count": 1,
   "metadata": {},
   "outputs": [],
   "source": [
    "# Tratamiento de datos\n",
    "# ------------------------------------------------------------------------------\n",
    "import numpy as np\n",
    "import pandas as pd\n",
    "\n",
    "# Gráficos\n",
    "# ------------------------------------------------------------------------------\n",
    "import matplotlib.pyplot as plt\n",
    "import seaborn as sns\n",
    "\n",
    "# Para navegar entre directorios\n",
    "# ------------------------------------\n",
    "import os\n",
    "\n",
    "# Modelado y evaluación\n",
    "# ------------------------------------------------------------------------------\n",
    "from sklearn.model_selection import train_test_split\n",
    "from sklearn.ensemble import RandomForestRegressor\n",
    "from sklearn import tree\n",
    "from sklearn.metrics import r2_score, mean_squared_error, mean_absolute_error\n",
    "from sklearn.model_selection import GridSearchCV\n",
    "\n",
    "# Barra de progreso de un proceso\n",
    "# ------------------------------------------------------------------------------\n",
    "from tqdm import tqdm\n",
    "\n",
    "# Configuración warnings\n",
    "# ------------------------------------------------------------------------------\n",
    "import warnings\n",
    "warnings.filterwarnings('once')"
   ]
  },
  {
   "attachments": {},
   "cell_type": "markdown",
   "metadata": {},
   "source": [
    "En el pair programming de hoy debéis usar el csv que guardastéis cuando hicistéis el pairprgramming de codificicación (este csv debería tener las variables estadandarizas)."
   ]
  },
  {
   "cell_type": "code",
   "execution_count": 2,
   "metadata": {},
   "outputs": [
    {
     "data": {
      "text/plain": [
       "'/mnt/c/Users/lidya/Documents/Nuestros documentos/Documentos de Lidya/Estudios/Adalab/modulos/modulo3/pair_programming/promo-d-da-modulo3-sprint1-elisa-lidya/regresion-lineal'"
      ]
     },
     "execution_count": 2,
     "metadata": {},
     "output_type": "execute_result"
    }
   ],
   "source": [
    "os.getcwd()"
   ]
  },
  {
   "cell_type": "code",
   "execution_count": 3,
   "metadata": {},
   "outputs": [],
   "source": [
    "os.chdir('/mnt/c/Users/lidya/Documents/Nuestros documentos/Documentos de Lidya/Estudios/Adalab/modulos/modulo3/pair_programming/promo-d-da-modulo3-sprint1-elisa-lidya/regresion-lineal')"
   ]
  },
  {
   "cell_type": "code",
   "execution_count": 4,
   "metadata": {},
   "outputs": [
    {
     "data": {
      "text/html": [
       "<div>\n",
       "<style scoped>\n",
       "    .dataframe tbody tr th:only-of-type {\n",
       "        vertical-align: middle;\n",
       "    }\n",
       "\n",
       "    .dataframe tbody tr th {\n",
       "        vertical-align: top;\n",
       "    }\n",
       "\n",
       "    .dataframe thead th {\n",
       "        text-align: right;\n",
       "    }\n",
       "</style>\n",
       "<table border=\"1\" class=\"dataframe\">\n",
       "  <thead>\n",
       "    <tr style=\"text-align: right;\">\n",
       "      <th></th>\n",
       "      <th>population_in_millions</th>\n",
       "      <th>population_density</th>\n",
       "      <th>urban_population_y</th>\n",
       "      <th>gdp_per_capita</th>\n",
       "      <th>health_total_expenditure</th>\n",
       "      <th>health_care_index</th>\n",
       "      <th>quantity_of_physicians</th>\n",
       "      <th>quality_of_life_index</th>\n",
       "      <th>purchasing_power_index</th>\n",
       "      <th>safety_index</th>\n",
       "      <th>...</th>\n",
       "      <th>region_NorthernAmerica</th>\n",
       "      <th>region_NorthernEurope</th>\n",
       "      <th>region_Oceania</th>\n",
       "      <th>region_South-easternAsia</th>\n",
       "      <th>region_SouthAmerica</th>\n",
       "      <th>region_SouthernAfrica</th>\n",
       "      <th>region_SouthernAsia</th>\n",
       "      <th>region_SouthernEurope</th>\n",
       "      <th>region_WesternAsia</th>\n",
       "      <th>region_WesternEurope</th>\n",
       "    </tr>\n",
       "    <tr>\n",
       "      <th>country</th>\n",
       "      <th></th>\n",
       "      <th></th>\n",
       "      <th></th>\n",
       "      <th></th>\n",
       "      <th></th>\n",
       "      <th></th>\n",
       "      <th></th>\n",
       "      <th></th>\n",
       "      <th></th>\n",
       "      <th></th>\n",
       "      <th></th>\n",
       "      <th></th>\n",
       "      <th></th>\n",
       "      <th></th>\n",
       "      <th></th>\n",
       "      <th></th>\n",
       "      <th></th>\n",
       "      <th></th>\n",
       "      <th></th>\n",
       "      <th></th>\n",
       "      <th></th>\n",
       "    </tr>\n",
       "  </thead>\n",
       "  <tbody>\n",
       "    <tr>\n",
       "      <th>Argentina</th>\n",
       "      <td>-0.178879</td>\n",
       "      <td>-0.273196</td>\n",
       "      <td>1.103154</td>\n",
       "      <td>-0.439011</td>\n",
       "      <td>-1.075299</td>\n",
       "      <td>0.742566</td>\n",
       "      <td>3</td>\n",
       "      <td>0.131610</td>\n",
       "      <td>-0.436682</td>\n",
       "      <td>-1.655219</td>\n",
       "      <td>...</td>\n",
       "      <td>0.0</td>\n",
       "      <td>0.0</td>\n",
       "      <td>0.0</td>\n",
       "      <td>0.0</td>\n",
       "      <td>1.0</td>\n",
       "      <td>0.0</td>\n",
       "      <td>0.0</td>\n",
       "      <td>0.0</td>\n",
       "      <td>0.0</td>\n",
       "      <td>0.0</td>\n",
       "    </tr>\n",
       "    <tr>\n",
       "      <th>Australia</th>\n",
       "      <td>-0.262734</td>\n",
       "      <td>-0.283298</td>\n",
       "      <td>0.771296</td>\n",
       "      <td>1.362030</td>\n",
       "      <td>0.630170</td>\n",
       "      <td>0.837385</td>\n",
       "      <td>2</td>\n",
       "      <td>1.015861</td>\n",
       "      <td>1.027351</td>\n",
       "      <td>-0.217071</td>\n",
       "      <td>...</td>\n",
       "      <td>0.0</td>\n",
       "      <td>0.0</td>\n",
       "      <td>1.0</td>\n",
       "      <td>0.0</td>\n",
       "      <td>0.0</td>\n",
       "      <td>0.0</td>\n",
       "      <td>0.0</td>\n",
       "      <td>0.0</td>\n",
       "      <td>0.0</td>\n",
       "      <td>0.0</td>\n",
       "    </tr>\n",
       "  </tbody>\n",
       "</table>\n",
       "<p>2 rows × 27 columns</p>\n",
       "</div>"
      ],
      "text/plain": [
       "           population_in_millions  population_density  urban_population_y  \\\n",
       "country                                                                     \n",
       "Argentina               -0.178879           -0.273196            1.103154   \n",
       "Australia               -0.262734           -0.283298            0.771296   \n",
       "\n",
       "           gdp_per_capita  health_total_expenditure  health_care_index  \\\n",
       "country                                                                  \n",
       "Argentina       -0.439011                 -1.075299           0.742566   \n",
       "Australia        1.362030                  0.630170           0.837385   \n",
       "\n",
       "           quantity_of_physicians  quality_of_life_index  \\\n",
       "country                                                    \n",
       "Argentina                       3               0.131610   \n",
       "Australia                       2               1.015861   \n",
       "\n",
       "           purchasing_power_index  safety_index  ...  region_NorthernAmerica  \\\n",
       "country                                          ...                           \n",
       "Argentina               -0.436682     -1.655219  ...                     0.0   \n",
       "Australia                1.027351     -0.217071  ...                     0.0   \n",
       "\n",
       "           region_NorthernEurope  region_Oceania  region_South-easternAsia  \\\n",
       "country                                                                      \n",
       "Argentina                    0.0             0.0                       0.0   \n",
       "Australia                    0.0             1.0                       0.0   \n",
       "\n",
       "           region_SouthAmerica  region_SouthernAfrica  region_SouthernAsia  \\\n",
       "country                                                                      \n",
       "Argentina                  1.0                    0.0                  0.0   \n",
       "Australia                  0.0                    0.0                  0.0   \n",
       "\n",
       "           region_SouthernEurope  region_WesternAsia  region_WesternEurope  \n",
       "country                                                                     \n",
       "Argentina                    0.0                 0.0                   0.0  \n",
       "Australia                    0.0                 0.0                   0.0  \n",
       "\n",
       "[2 rows x 27 columns]"
      ]
     },
     "execution_count": 4,
     "metadata": {},
     "output_type": "execute_result"
    }
   ],
   "source": [
    "df_socio = pd.read_csv('../datos/esperanza_vida_transformado.csv', index_col=0)\n",
    "df_socio.head(2)"
   ]
  },
  {
   "attachments": {},
   "cell_type": "markdown",
   "metadata": {},
   "source": [
    "En pairprogramming anteriores ajustastéis vuestro datos a una regresión lineal y a un Decision Tree. El objetivo de hoy es:\n",
    " - Ajustar el modelo a un Random Forest\n"
   ]
  },
  {
   "cell_type": "code",
   "execution_count": 5,
   "metadata": {},
   "outputs": [],
   "source": [
    "X = df_socio.drop('life_expectancy_at_birth_total_bc', axis=1)\n",
    "y = df_socio['life_expectancy_at_birth_total_bc']"
   ]
  },
  {
   "cell_type": "code",
   "execution_count": 166,
   "metadata": {},
   "outputs": [],
   "source": [
    "x_train, x_test, y_train, y_test = train_test_split(X, y, test_size = 0.3, random_state = 63)\n",
    "\n",
    "bosque = RandomForestRegressor(max_depth=3, max_features=5, min_samples_leaf=5, min_samples_split=10, random_state= 137)\n",
    "\n",
    "bosque.fit(x_train, y_train)\n",
    "\n",
    "y_pred_test = bosque.predict(x_test)\n",
    "y_pred_train = bosque.predict(x_train)"
   ]
  },
  {
   "attachments": {},
   "cell_type": "markdown",
   "metadata": {},
   "source": [
    " - Extraer las métricas\n"
   ]
  },
  {
   "cell_type": "code",
   "execution_count": 167,
   "metadata": {},
   "outputs": [],
   "source": [
    "def metricas(y_test, y_train, y_test_pred, y_train_pred, tipo_modelo):\n",
    "    \n",
    "    \n",
    "    resultados = {'MAE': [mean_absolute_error(y_test, y_test_pred), mean_absolute_error(y_train, y_train_pred)],\n",
    "                'MSE': [mean_squared_error(y_test, y_test_pred), mean_squared_error(y_train, y_train_pred)],\n",
    "                'RMSE': [np.sqrt(mean_squared_error(y_test, y_test_pred)), np.sqrt(mean_squared_error(y_train, y_train_pred))],\n",
    "                'R2':  [r2_score(y_test, y_test_pred), r2_score(y_train, y_train_pred)],\n",
    "                \"set\": [\"test\", \"train\"]}\n",
    "    \n",
    "    df = pd.DataFrame(resultados)\n",
    "    df[\"modelo\"] = tipo_modelo\n",
    "    return df"
   ]
  },
  {
   "cell_type": "code",
   "execution_count": 168,
   "metadata": {},
   "outputs": [],
   "source": [
    "resultados1 = metricas(y_test, y_train, y_pred_test, y_pred_train, 'Random Forest 1')"
   ]
  },
  {
   "cell_type": "code",
   "execution_count": 169,
   "metadata": {},
   "outputs": [
    {
     "data": {
      "text/html": [
       "<div>\n",
       "<style scoped>\n",
       "    .dataframe tbody tr th:only-of-type {\n",
       "        vertical-align: middle;\n",
       "    }\n",
       "\n",
       "    .dataframe tbody tr th {\n",
       "        vertical-align: top;\n",
       "    }\n",
       "\n",
       "    .dataframe thead th {\n",
       "        text-align: right;\n",
       "    }\n",
       "</style>\n",
       "<table border=\"1\" class=\"dataframe\">\n",
       "  <thead>\n",
       "    <tr style=\"text-align: right;\">\n",
       "      <th></th>\n",
       "      <th>MAE</th>\n",
       "      <th>MSE</th>\n",
       "      <th>RMSE</th>\n",
       "      <th>R2</th>\n",
       "      <th>set</th>\n",
       "      <th>modelo</th>\n",
       "    </tr>\n",
       "  </thead>\n",
       "  <tbody>\n",
       "    <tr>\n",
       "      <th>0</th>\n",
       "      <td>3.146191e+10</td>\n",
       "      <td>1.500773e+21</td>\n",
       "      <td>3.873981e+10</td>\n",
       "      <td>0.536183</td>\n",
       "      <td>test</td>\n",
       "      <td>Random Forest 1</td>\n",
       "    </tr>\n",
       "    <tr>\n",
       "      <th>1</th>\n",
       "      <td>2.177391e+10</td>\n",
       "      <td>8.481146e+20</td>\n",
       "      <td>2.912241e+10</td>\n",
       "      <td>0.773097</td>\n",
       "      <td>train</td>\n",
       "      <td>Random Forest 1</td>\n",
       "    </tr>\n",
       "  </tbody>\n",
       "</table>\n",
       "</div>"
      ],
      "text/plain": [
       "            MAE           MSE          RMSE        R2    set           modelo\n",
       "0  3.146191e+10  1.500773e+21  3.873981e+10  0.536183   test  Random Forest 1\n",
       "1  2.177391e+10  8.481146e+20  2.912241e+10  0.773097  train  Random Forest 1"
      ]
     },
     "execution_count": 169,
     "metadata": {},
     "output_type": "execute_result"
    }
   ],
   "source": [
    "resultados1"
   ]
  },
  {
   "attachments": {},
   "cell_type": "markdown",
   "metadata": {},
   "source": [
    " - Debatid entre vosotras que modelo es mejor y por qué (basándose en las métricas)"
   ]
  },
  {
   "cell_type": "code",
   "execution_count": null,
   "metadata": {},
   "outputs": [],
   "source": []
  }
 ],
 "metadata": {
  "kernelspec": {
   "display_name": "adalabenv",
   "language": "python",
   "name": "python3"
  },
  "language_info": {
   "codemirror_mode": {
    "name": "ipython",
    "version": 3
   },
   "file_extension": ".py",
   "mimetype": "text/x-python",
   "name": "python",
   "nbconvert_exporter": "python",
   "pygments_lexer": "ipython3",
   "version": "3.10.9"
  },
  "orig_nbformat": 4
 },
 "nbformat": 4,
 "nbformat_minor": 2
}
