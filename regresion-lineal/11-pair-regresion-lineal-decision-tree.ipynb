{
 "cells": [
  {
   "attachments": {},
   "cell_type": "markdown",
   "metadata": {},
   "source": [
    "# **Ejercicios de pair programming Módulo 3 Sprint 1**\n",
    "## **Regresión lineal: Lección 11**\n",
    "### **Decision Tree**\n",
    "\n",
    "---"
   ]
  },
  {
   "cell_type": "code",
   "execution_count": 6,
   "metadata": {},
   "outputs": [],
   "source": [
    "# Tratamiento de datos\n",
    "# ------------------------------------------------------------------------------\n",
    "import numpy as np\n",
    "import pandas as pd\n",
    "\n",
    "# Gráficos\n",
    "# ------------------------------------------------------------------------------\n",
    "import matplotlib.pyplot as plt\n",
    "import seaborn as sns\n",
    "\n",
    "# Para navegar entre directorios\n",
    "# ------------------------------------\n",
    "import os\n",
    "\n",
    "# Modelado y evaluación\n",
    "# ------------------------------------------------------------------------------\n",
    "from sklearn.model_selection import train_test_split\n",
    "from sklearn.tree import DecisionTreeRegressor\n",
    "from sklearn import tree\n",
    "from sklearn.metrics import r2_score, mean_squared_error, mean_absolute_error\n",
    "from sklearn.model_selection import GridSearchCV\n",
    "\n",
    "# Configuración warnings\n",
    "# ------------------------------------------------------------------------------\n",
    "import warnings\n",
    "warnings.filterwarnings('once')\n",
    "\n",
    "pd.options.display.max_columns = None"
   ]
  },
  {
   "attachments": {},
   "cell_type": "markdown",
   "metadata": {},
   "source": [
    "En el pair programming de hoy debéis usar el csv que guardastéis cuando hicistéis el pairprgramming de codificicación (este csv debería tener las variables estadandarizas)."
   ]
  },
  {
   "cell_type": "code",
   "execution_count": 2,
   "metadata": {},
   "outputs": [
    {
     "data": {
      "text/plain": [
       "'/mnt/c/Users/User/Desktop/ADALAB/MODULO3/promo-d-da-modulo3-sprint1-elisa-lidya/regresion-lineal'"
      ]
     },
     "execution_count": 2,
     "metadata": {},
     "output_type": "execute_result"
    }
   ],
   "source": [
    "os.getcwd()"
   ]
  },
  {
   "cell_type": "code",
   "execution_count": 4,
   "metadata": {},
   "outputs": [],
   "source": [
    "os.chdir('/mnt/c/Users/User/Desktop/ADALAB/MODULO3/promo-d-da-modulo3-sprint1-elisa-lidya/regresion-lineal')"
   ]
  },
  {
   "cell_type": "code",
   "execution_count": 7,
   "metadata": {},
   "outputs": [
    {
     "data": {
      "text/html": [
       "<div>\n",
       "<style scoped>\n",
       "    .dataframe tbody tr th:only-of-type {\n",
       "        vertical-align: middle;\n",
       "    }\n",
       "\n",
       "    .dataframe tbody tr th {\n",
       "        vertical-align: top;\n",
       "    }\n",
       "\n",
       "    .dataframe thead th {\n",
       "        text-align: right;\n",
       "    }\n",
       "</style>\n",
       "<table border=\"1\" class=\"dataframe\">\n",
       "  <thead>\n",
       "    <tr style=\"text-align: right;\">\n",
       "      <th></th>\n",
       "      <th>population_in_millions</th>\n",
       "      <th>population_density</th>\n",
       "      <th>urban_population_y</th>\n",
       "      <th>gdp_per_capita</th>\n",
       "      <th>health_total_expenditure</th>\n",
       "      <th>health_care_index</th>\n",
       "      <th>quantity_of_physicians</th>\n",
       "      <th>quality_of_life_index</th>\n",
       "      <th>purchasing_power_index</th>\n",
       "      <th>safety_index</th>\n",
       "      <th>pollution_index</th>\n",
       "      <th>pop_using_improved_drinking_water</th>\n",
       "      <th>life_expectancy_at_birth_total_bc</th>\n",
       "      <th>region_CentralAmerica</th>\n",
       "      <th>region_EasternAsia</th>\n",
       "      <th>region_EasternEurope</th>\n",
       "      <th>region_NorthernAfrica</th>\n",
       "      <th>region_NorthernAmerica</th>\n",
       "      <th>region_NorthernEurope</th>\n",
       "      <th>region_Oceania</th>\n",
       "      <th>region_South-easternAsia</th>\n",
       "      <th>region_SouthAmerica</th>\n",
       "      <th>region_SouthernAfrica</th>\n",
       "      <th>region_SouthernAsia</th>\n",
       "      <th>region_SouthernEurope</th>\n",
       "      <th>region_WesternAsia</th>\n",
       "      <th>region_WesternEurope</th>\n",
       "    </tr>\n",
       "    <tr>\n",
       "      <th>country</th>\n",
       "      <th></th>\n",
       "      <th></th>\n",
       "      <th></th>\n",
       "      <th></th>\n",
       "      <th></th>\n",
       "      <th></th>\n",
       "      <th></th>\n",
       "      <th></th>\n",
       "      <th></th>\n",
       "      <th></th>\n",
       "      <th></th>\n",
       "      <th></th>\n",
       "      <th></th>\n",
       "      <th></th>\n",
       "      <th></th>\n",
       "      <th></th>\n",
       "      <th></th>\n",
       "      <th></th>\n",
       "      <th></th>\n",
       "      <th></th>\n",
       "      <th></th>\n",
       "      <th></th>\n",
       "      <th></th>\n",
       "      <th></th>\n",
       "      <th></th>\n",
       "      <th></th>\n",
       "      <th></th>\n",
       "    </tr>\n",
       "  </thead>\n",
       "  <tbody>\n",
       "    <tr>\n",
       "      <th>Argentina</th>\n",
       "      <td>-0.178879</td>\n",
       "      <td>-0.273196</td>\n",
       "      <td>1.103154</td>\n",
       "      <td>-0.439011</td>\n",
       "      <td>-1.075299</td>\n",
       "      <td>0.742566</td>\n",
       "      <td>3</td>\n",
       "      <td>0.131610</td>\n",
       "      <td>-0.436682</td>\n",
       "      <td>-1.655219</td>\n",
       "      <td>0.057166</td>\n",
       "      <td>0.474870</td>\n",
       "      <td>1.596496e+11</td>\n",
       "      <td>0.0</td>\n",
       "      <td>0.0</td>\n",
       "      <td>0.0</td>\n",
       "      <td>0.0</td>\n",
       "      <td>0.0</td>\n",
       "      <td>0.0</td>\n",
       "      <td>0.0</td>\n",
       "      <td>0.0</td>\n",
       "      <td>1.0</td>\n",
       "      <td>0.0</td>\n",
       "      <td>0.0</td>\n",
       "      <td>0.0</td>\n",
       "      <td>0.0</td>\n",
       "      <td>0.0</td>\n",
       "    </tr>\n",
       "    <tr>\n",
       "      <th>Australia</th>\n",
       "      <td>-0.262734</td>\n",
       "      <td>-0.283298</td>\n",
       "      <td>0.771296</td>\n",
       "      <td>1.362030</td>\n",
       "      <td>0.630170</td>\n",
       "      <td>0.837385</td>\n",
       "      <td>2</td>\n",
       "      <td>1.015861</td>\n",
       "      <td>1.027351</td>\n",
       "      <td>-0.217071</td>\n",
       "      <td>-1.285658</td>\n",
       "      <td>0.710275</td>\n",
       "      <td>2.611737e+11</td>\n",
       "      <td>0.0</td>\n",
       "      <td>0.0</td>\n",
       "      <td>0.0</td>\n",
       "      <td>0.0</td>\n",
       "      <td>0.0</td>\n",
       "      <td>0.0</td>\n",
       "      <td>1.0</td>\n",
       "      <td>0.0</td>\n",
       "      <td>0.0</td>\n",
       "      <td>0.0</td>\n",
       "      <td>0.0</td>\n",
       "      <td>0.0</td>\n",
       "      <td>0.0</td>\n",
       "      <td>0.0</td>\n",
       "    </tr>\n",
       "  </tbody>\n",
       "</table>\n",
       "</div>"
      ],
      "text/plain": [
       "           population_in_millions  population_density  urban_population_y  \\\n",
       "country                                                                     \n",
       "Argentina               -0.178879           -0.273196            1.103154   \n",
       "Australia               -0.262734           -0.283298            0.771296   \n",
       "\n",
       "           gdp_per_capita  health_total_expenditure  health_care_index  \\\n",
       "country                                                                  \n",
       "Argentina       -0.439011                 -1.075299           0.742566   \n",
       "Australia        1.362030                  0.630170           0.837385   \n",
       "\n",
       "           quantity_of_physicians  quality_of_life_index  \\\n",
       "country                                                    \n",
       "Argentina                       3               0.131610   \n",
       "Australia                       2               1.015861   \n",
       "\n",
       "           purchasing_power_index  safety_index  pollution_index  \\\n",
       "country                                                            \n",
       "Argentina               -0.436682     -1.655219         0.057166   \n",
       "Australia                1.027351     -0.217071        -1.285658   \n",
       "\n",
       "           pop_using_improved_drinking_water  \\\n",
       "country                                        \n",
       "Argentina                           0.474870   \n",
       "Australia                           0.710275   \n",
       "\n",
       "           life_expectancy_at_birth_total_bc  region_CentralAmerica  \\\n",
       "country                                                               \n",
       "Argentina                       1.596496e+11                    0.0   \n",
       "Australia                       2.611737e+11                    0.0   \n",
       "\n",
       "           region_EasternAsia  region_EasternEurope  region_NorthernAfrica  \\\n",
       "country                                                                      \n",
       "Argentina                 0.0                   0.0                    0.0   \n",
       "Australia                 0.0                   0.0                    0.0   \n",
       "\n",
       "           region_NorthernAmerica  region_NorthernEurope  region_Oceania  \\\n",
       "country                                                                    \n",
       "Argentina                     0.0                    0.0             0.0   \n",
       "Australia                     0.0                    0.0             1.0   \n",
       "\n",
       "           region_South-easternAsia  region_SouthAmerica  \\\n",
       "country                                                    \n",
       "Argentina                       0.0                  1.0   \n",
       "Australia                       0.0                  0.0   \n",
       "\n",
       "           region_SouthernAfrica  region_SouthernAsia  region_SouthernEurope  \\\n",
       "country                                                                        \n",
       "Argentina                    0.0                  0.0                    0.0   \n",
       "Australia                    0.0                  0.0                    0.0   \n",
       "\n",
       "           region_WesternAsia  region_WesternEurope  \n",
       "country                                              \n",
       "Argentina                 0.0                   0.0  \n",
       "Australia                 0.0                   0.0  "
      ]
     },
     "execution_count": 7,
     "metadata": {},
     "output_type": "execute_result"
    }
   ],
   "source": [
    "df_socio = pd.read_csv('../datos/esperanza_vida_transformado.csv', index_col=0)\n",
    "df_socio.head(2)"
   ]
  },
  {
   "attachments": {},
   "cell_type": "markdown",
   "metadata": {},
   "source": [
    "\n",
    "En pairprogramming anteriores ajustastéis vuestro datos a una regresión lineal. El objetivo de hoy es:\n",
    " - Ajustar el modelo a un Decision Tree\n"
   ]
  },
  {
   "cell_type": "code",
   "execution_count": 8,
   "metadata": {},
   "outputs": [],
   "source": [
    "X = df_socio.drop('life_expectancy_at_birth_total_bc', axis=1)\n",
    "y = df_socio['life_expectancy_at_birth_total_bc']"
   ]
  },
  {
   "cell_type": "code",
   "execution_count": 14,
   "metadata": {},
   "outputs": [
    {
     "name": "stdout",
     "output_type": "stream",
     "text": [
      "La máxima cantidad de features que podemos incluir en el modelo es 5.0990195135927845.\n",
      "La máxima profundidad que puede tener nuestro modelo es 10\n"
     ]
    }
   ],
   "source": [
    "x_train, x_test, y_train, y_test = train_test_split(X, y, test_size = 0.3, random_state = 63)\n",
    "\n",
    "arbol = DecisionTreeRegressor(random_state = 137)\n",
    "\n",
    "arbol.fit(x_train, y_train)\n",
    "\n",
    "max_features = np.sqrt(len(x_train.columns))\n",
    "print(f'La máxima cantidad de features que podemos incluir en el modelo es {max_features}.')\n",
    "print(f'La máxima profundidad que puede tener nuestro modelo es {arbol.tree_.max_depth}')\n",
    "\n",
    "y_pred_test = arbol.predict(x_test)\n",
    "y_pred_train = arbol.predict(x_train)"
   ]
  },
  {
   "cell_type": "code",
   "execution_count": 15,
   "metadata": {},
   "outputs": [],
   "source": [
    "def metricas(y_test, y_train, y_test_pred, y_train_pred, tipo_modelo):\n",
    "    \n",
    "    \n",
    "    resultados = {'MAE': [mean_absolute_error(y_test, y_test_pred), mean_absolute_error(y_train, y_train_pred)],\n",
    "                'MSE': [mean_squared_error(y_test, y_test_pred), mean_squared_error(y_train, y_train_pred)],\n",
    "                'RMSE': [np.sqrt(mean_squared_error(y_test, y_test_pred)), np.sqrt(mean_squared_error(y_train, y_train_pred))],\n",
    "                'R2':  [r2_score(y_test, y_test_pred), r2_score(y_train, y_train_pred)],\n",
    "                \"set\": [\"test\", \"train\"]}\n",
    "    \n",
    "    df = pd.DataFrame(resultados)\n",
    "    df[\"modelo\"] = tipo_modelo\n",
    "    return df"
   ]
  },
  {
   "cell_type": "code",
   "execution_count": 16,
   "metadata": {},
   "outputs": [],
   "source": [
    "resultados1 = metricas(y_test, y_train, y_pred_test, y_pred_train, 'Arbol de decisión 1')"
   ]
  },
  {
   "cell_type": "code",
   "execution_count": 17,
   "metadata": {},
   "outputs": [
    {
     "data": {
      "text/html": [
       "<div>\n",
       "<style scoped>\n",
       "    .dataframe tbody tr th:only-of-type {\n",
       "        vertical-align: middle;\n",
       "    }\n",
       "\n",
       "    .dataframe tbody tr th {\n",
       "        vertical-align: top;\n",
       "    }\n",
       "\n",
       "    .dataframe thead th {\n",
       "        text-align: right;\n",
       "    }\n",
       "</style>\n",
       "<table border=\"1\" class=\"dataframe\">\n",
       "  <thead>\n",
       "    <tr style=\"text-align: right;\">\n",
       "      <th></th>\n",
       "      <th>MAE</th>\n",
       "      <th>MSE</th>\n",
       "      <th>RMSE</th>\n",
       "      <th>R2</th>\n",
       "      <th>set</th>\n",
       "      <th>modelo</th>\n",
       "    </tr>\n",
       "  </thead>\n",
       "  <tbody>\n",
       "    <tr>\n",
       "      <th>0</th>\n",
       "      <td>3.997748e+10</td>\n",
       "      <td>2.839250e+21</td>\n",
       "      <td>5.328461e+10</td>\n",
       "      <td>0.122523</td>\n",
       "      <td>test</td>\n",
       "      <td>Arbol de decisión 1</td>\n",
       "    </tr>\n",
       "    <tr>\n",
       "      <th>1</th>\n",
       "      <td>0.000000e+00</td>\n",
       "      <td>0.000000e+00</td>\n",
       "      <td>0.000000e+00</td>\n",
       "      <td>1.000000</td>\n",
       "      <td>train</td>\n",
       "      <td>Arbol de decisión 1</td>\n",
       "    </tr>\n",
       "  </tbody>\n",
       "</table>\n",
       "</div>"
      ],
      "text/plain": [
       "            MAE           MSE          RMSE        R2    set  \\\n",
       "0  3.997748e+10  2.839250e+21  5.328461e+10  0.122523   test   \n",
       "1  0.000000e+00  0.000000e+00  0.000000e+00  1.000000  train   \n",
       "\n",
       "                modelo  \n",
       "0  Arbol de decisión 1  \n",
       "1  Arbol de decisión 1  "
      ]
     },
     "execution_count": 17,
     "metadata": {},
     "output_type": "execute_result"
    }
   ],
   "source": [
    "resultados1"
   ]
  },
  {
   "attachments": {},
   "cell_type": "markdown",
   "metadata": {},
   "source": [
    "`Vemos que tenemos un claro caso de overfitting, así que utilizamos GridSearchCV para ajustar nuestro hiperparámetros.`"
   ]
  },
  {
   "cell_type": "code",
   "execution_count": 19,
   "metadata": {},
   "outputs": [
    {
     "name": "stdout",
     "output_type": "stream",
     "text": [
      "La máxima cantidad de features que podemos incluir en el modelo es 5.0990195135927845.\n",
      "La máxima profundidad que puede tener nuestro modelo es 10\n"
     ]
    }
   ],
   "source": [
    "print(f'La máxima cantidad de features que podemos incluir en el modelo es {max_features}.')\n",
    "print(f'La máxima profundidad que puede tener nuestro modelo es {arbol.tree_.max_depth}')"
   ]
  },
  {
   "cell_type": "code",
   "execution_count": 20,
   "metadata": {},
   "outputs": [],
   "source": [
    "param = {\"max_depth\": [2,4,6],  \n",
    "        \"max_features\": [1,2,3,4,5],        \n",
    "        \"min_samples_split\": [10,50,100],\n",
    "        \"min_samples_leaf\": [10,50,100]}"
   ]
  },
  {
   "cell_type": "code",
   "execution_count": 21,
   "metadata": {},
   "outputs": [],
   "source": [
    "gs = GridSearchCV(\n",
    "            estimator=DecisionTreeRegressor(), \n",
    "            param_grid= param, \n",
    "            cv=10, \n",
    "            verbose=-1, \n",
    "            return_train_score = True, \n",
    "            scoring=\"neg_mean_squared_error\")"
   ]
  },
  {
   "cell_type": "code",
   "execution_count": 22,
   "metadata": {},
   "outputs": [
    {
     "data": {
      "text/plain": [
       "GridSearchCV(cv=10, estimator=DecisionTreeRegressor(),\n",
       "             param_grid={'max_depth': [2, 4, 6],\n",
       "                         'max_features': [1, 2, 3, 4, 5],\n",
       "                         'min_samples_leaf': [10, 50, 100],\n",
       "                         'min_samples_split': [10, 50, 100]},\n",
       "             return_train_score=True, scoring='neg_mean_squared_error',\n",
       "             verbose=-1)"
      ]
     },
     "execution_count": 22,
     "metadata": {},
     "output_type": "execute_result"
    }
   ],
   "source": [
    "gs.fit(x_train, y_train)"
   ]
  },
  {
   "cell_type": "code",
   "execution_count": 23,
   "metadata": {},
   "outputs": [
    {
     "data": {
      "text/plain": [
       "DecisionTreeRegressor(max_depth=2, max_features=5, min_samples_leaf=10,\n",
       "                      min_samples_split=10)"
      ]
     },
     "execution_count": 23,
     "metadata": {},
     "output_type": "execute_result"
    }
   ],
   "source": [
    "modelo1 = gs.best_estimator_\n",
    "modelo1"
   ]
  },
  {
   "cell_type": "code",
   "execution_count": 25,
   "metadata": {},
   "outputs": [],
   "source": [
    "param2 = {\"max_depth\": [1,2,3],  \n",
    "        \"max_features\": [1,2,3,4,5],        \n",
    "        \"min_samples_split\": [5,10,15,25],\n",
    "        \"min_samples_leaf\": [5,10,15,25]}"
   ]
  },
  {
   "cell_type": "code",
   "execution_count": 27,
   "metadata": {},
   "outputs": [
    {
     "data": {
      "text/plain": [
       "DecisionTreeRegressor(max_depth=2, max_features=3, min_samples_leaf=5,\n",
       "                      min_samples_split=10)"
      ]
     },
     "execution_count": 27,
     "metadata": {},
     "output_type": "execute_result"
    }
   ],
   "source": [
    "gs2 = GridSearchCV(\n",
    "            estimator=DecisionTreeRegressor(), \n",
    "            param_grid= param2, \n",
    "            cv=10, \n",
    "            verbose=-1, \n",
    "            return_train_score = True, \n",
    "            scoring=\"neg_mean_squared_error\")\n",
    "\n",
    "gs2.fit(x_train, y_train)\n",
    "\n",
    "modelo2 = gs2.best_estimator_\n",
    "modelo2"
   ]
  },
  {
   "cell_type": "code",
   "execution_count": null,
   "metadata": {},
   "outputs": [],
   "source": [
    "#volvemos a hacer el método\n",
    "x_train, x_test, y_train, y_test = train_test_split(X, y, test_size = 0.3, random_state = 63)\n",
    "\n",
    "arbol = DecisionTreeRegressor(random_state = 137)\n",
    "\n",
    "arbol.fit(x_train, y_train)\n",
    "\n",
    "max_features = np.sqrt(len(x_train.columns))\n",
    "print(f'La máxima cantidad de features que podemos incluir en el modelo es {max_features}.')\n",
    "print(f'La máxima profundidad que puede tener nuestro modelo es {arbol.tree_.max_depth}')\n",
    "\n",
    "y_pred_test = arbol.predict(x_test)\n",
    "y_pred_train = arbol.predict(x_train)"
   ]
  },
  {
   "attachments": {},
   "cell_type": "markdown",
   "metadata": {},
   "source": [
    " - Extraer las métricas\n"
   ]
  },
  {
   "cell_type": "code",
   "execution_count": null,
   "metadata": {},
   "outputs": [],
   "source": []
  },
  {
   "attachments": {},
   "cell_type": "markdown",
   "metadata": {},
   "source": [
    " - Debatid entre vosotras que modelo es mejor y por qué (basándose en las métricas)"
   ]
  },
  {
   "cell_type": "code",
   "execution_count": null,
   "metadata": {},
   "outputs": [],
   "source": []
  }
 ],
 "metadata": {
  "kernelspec": {
   "display_name": "base",
   "language": "python",
   "name": "python3"
  },
  "language_info": {
   "codemirror_mode": {
    "name": "ipython",
    "version": 3
   },
   "file_extension": ".py",
   "mimetype": "text/x-python",
   "name": "python",
   "nbconvert_exporter": "python",
   "pygments_lexer": "ipython3",
   "version": "3.9.7"
  },
  "orig_nbformat": 4
 },
 "nbformat": 4,
 "nbformat_minor": 2
}
