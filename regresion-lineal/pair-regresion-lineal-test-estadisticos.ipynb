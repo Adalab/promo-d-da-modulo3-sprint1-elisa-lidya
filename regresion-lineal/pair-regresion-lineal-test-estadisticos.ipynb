{
 "cells": [
  {
   "attachments": {},
   "cell_type": "markdown",
   "metadata": {},
   "source": [
    "# **Ejercicios de pair programming Módulo 3 Sprint 1**\n",
    "## **Regresión lineal: Lección 2**\n",
    "### **Tests Estadísticos**\n",
    "\n",
    "---"
   ]
  },
  {
   "cell_type": "code",
   "execution_count": 1,
   "metadata": {},
   "outputs": [],
   "source": [
    "\n",
    "# Tratamiento de datos\n",
    "# -----------------------------------------------------------------------\n",
    "import numpy as np\n",
    "import pandas as pd\n",
    "\n",
    "# Gráficos\n",
    "# ------------------------------------------------------------------------------\n",
    "import matplotlib.pyplot as plt\n",
    "import seaborn as sns\n",
    "\n",
    "# cálculo del valor de la curtosis\n",
    "from scipy.stats import kurtosistest\n",
    "\n",
    "# cálculo de la normalidad\n",
    "from scipy import stats\n",
    "\n",
    "import os"
   ]
  },
  {
   "cell_type": "code",
   "execution_count": 2,
   "metadata": {},
   "outputs": [
    {
     "data": {
      "text/plain": [
       "'/mnt/c/Users/User/Desktop/ADALAB/MODULO3'"
      ]
     },
     "execution_count": 2,
     "metadata": {},
     "output_type": "execute_result"
    }
   ],
   "source": [
    "os.getcwd()"
   ]
  },
  {
   "cell_type": "code",
   "execution_count": 3,
   "metadata": {},
   "outputs": [],
   "source": [
    "os.chdir('/mnt/c/Users/User/Desktop/ADALAB/MODULO3/promo-d-da-modulo3-sprint1-elisa-lidya/regresion-lineal/')\n"
   ]
  },
  {
   "cell_type": "code",
   "execution_count": 4,
   "metadata": {},
   "outputs": [
    {
     "data": {
      "text/html": [
       "<div>\n",
       "<style scoped>\n",
       "    .dataframe tbody tr th:only-of-type {\n",
       "        vertical-align: middle;\n",
       "    }\n",
       "\n",
       "    .dataframe tbody tr th {\n",
       "        vertical-align: top;\n",
       "    }\n",
       "\n",
       "    .dataframe thead th {\n",
       "        text-align: right;\n",
       "    }\n",
       "</style>\n",
       "<table border=\"1\" class=\"dataframe\">\n",
       "  <thead>\n",
       "    <tr style=\"text-align: right;\">\n",
       "      <th></th>\n",
       "      <th>country</th>\n",
       "      <th>Region</th>\n",
       "      <th>Population in millions (2017)</th>\n",
       "      <th>Population density (per km2, 2017)</th>\n",
       "      <th>Urban population (% of total population)_y</th>\n",
       "      <th>GDP per capita (current US$)</th>\n",
       "      <th>Health: Total expenditure (% of GDP)</th>\n",
       "      <th>Health Care Index</th>\n",
       "      <th>Health: Physicians (per 1000 pop.)</th>\n",
       "      <th>Quantity of Physicians (per 1000 pop.)</th>\n",
       "      <th>Quality Of Life Index</th>\n",
       "      <th>Purchasing Power Index</th>\n",
       "      <th>Safety Index</th>\n",
       "      <th>Pop. using improved drinking water: urban(%)</th>\n",
       "      <th>Pop. using improved drinking water: rural (%)</th>\n",
       "      <th>Pollution index</th>\n",
       "      <th>Life expectancy at birth, total (years)</th>\n",
       "    </tr>\n",
       "  </thead>\n",
       "  <tbody>\n",
       "    <tr>\n",
       "      <th>61</th>\n",
       "      <td>United Arab Emirates</td>\n",
       "      <td>WesternAsia</td>\n",
       "      <td>9.400</td>\n",
       "      <td>112.4</td>\n",
       "      <td>86.248</td>\n",
       "      <td>40438.8</td>\n",
       "      <td>3.6</td>\n",
       "      <td>60.49</td>\n",
       "      <td>1.60</td>\n",
       "      <td>Muy pocos</td>\n",
       "      <td>139.27</td>\n",
       "      <td>116.77</td>\n",
       "      <td>79.34</td>\n",
       "      <td>98.0</td>\n",
       "      <td>95.2</td>\n",
       "      <td>58.52</td>\n",
       "      <td>77.647000</td>\n",
       "    </tr>\n",
       "    <tr>\n",
       "      <th>62</th>\n",
       "      <td>United Kingdom</td>\n",
       "      <td>NorthernEurope</td>\n",
       "      <td>66.182</td>\n",
       "      <td>273.6</td>\n",
       "      <td>83.143</td>\n",
       "      <td>44162.4</td>\n",
       "      <td>9.1</td>\n",
       "      <td>74.28</td>\n",
       "      <td>2.80</td>\n",
       "      <td>Pocos</td>\n",
       "      <td>172.87</td>\n",
       "      <td>96.85</td>\n",
       "      <td>58.81</td>\n",
       "      <td>99.1</td>\n",
       "      <td>99.6</td>\n",
       "      <td>34.88</td>\n",
       "      <td>81.256098</td>\n",
       "    </tr>\n",
       "    <tr>\n",
       "      <th>63</th>\n",
       "      <td>United States of America</td>\n",
       "      <td>NorthernAmerica</td>\n",
       "      <td>324.460</td>\n",
       "      <td>35.5</td>\n",
       "      <td>82.058</td>\n",
       "      <td>56053.8</td>\n",
       "      <td>17.1</td>\n",
       "      <td>68.22</td>\n",
       "      <td>2.60</td>\n",
       "      <td>Pocos</td>\n",
       "      <td>179.73</td>\n",
       "      <td>123.17</td>\n",
       "      <td>51.24</td>\n",
       "      <td>100.0</td>\n",
       "      <td>100.0</td>\n",
       "      <td>31.19</td>\n",
       "      <td>78.539024</td>\n",
       "    </tr>\n",
       "    <tr>\n",
       "      <th>64</th>\n",
       "      <td>Venezuela (Bolivarian Republic of)</td>\n",
       "      <td>SouthAmerica</td>\n",
       "      <td>31.977</td>\n",
       "      <td>36.3</td>\n",
       "      <td>88.183</td>\n",
       "      <td>11068.9</td>\n",
       "      <td>5.3</td>\n",
       "      <td>36.90</td>\n",
       "      <td>2.66</td>\n",
       "      <td>Pocos</td>\n",
       "      <td>0.00</td>\n",
       "      <td>3.35</td>\n",
       "      <td>14.72</td>\n",
       "      <td>97.5</td>\n",
       "      <td>69.9</td>\n",
       "      <td>72.90</td>\n",
       "      <td>72.246000</td>\n",
       "    </tr>\n",
       "    <tr>\n",
       "      <th>65</th>\n",
       "      <td>Vietnam</td>\n",
       "      <td>South-easternAsia</td>\n",
       "      <td>95.541</td>\n",
       "      <td>308.1</td>\n",
       "      <td>35.213</td>\n",
       "      <td>2067.9</td>\n",
       "      <td>7.1</td>\n",
       "      <td>47.87</td>\n",
       "      <td>1.20</td>\n",
       "      <td>Muy pocos</td>\n",
       "      <td>36.12</td>\n",
       "      <td>24.77</td>\n",
       "      <td>47.04</td>\n",
       "      <td>94.4</td>\n",
       "      <td>69.7</td>\n",
       "      <td>88.10</td>\n",
       "      <td>75.241000</td>\n",
       "    </tr>\n",
       "  </tbody>\n",
       "</table>\n",
       "</div>"
      ],
      "text/plain": [
       "                               country             Region  \\\n",
       "61                United Arab Emirates        WesternAsia   \n",
       "62                      United Kingdom     NorthernEurope   \n",
       "63            United States of America    NorthernAmerica   \n",
       "64  Venezuela (Bolivarian Republic of)       SouthAmerica   \n",
       "65                             Vietnam  South-easternAsia   \n",
       "\n",
       "    Population in millions (2017)  Population density (per km2, 2017)  \\\n",
       "61                          9.400                               112.4   \n",
       "62                         66.182                               273.6   \n",
       "63                        324.460                                35.5   \n",
       "64                         31.977                                36.3   \n",
       "65                         95.541                               308.1   \n",
       "\n",
       "    Urban population (% of total population)_y  GDP per capita (current US$)  \\\n",
       "61                                      86.248                       40438.8   \n",
       "62                                      83.143                       44162.4   \n",
       "63                                      82.058                       56053.8   \n",
       "64                                      88.183                       11068.9   \n",
       "65                                      35.213                        2067.9   \n",
       "\n",
       "    Health: Total expenditure (% of GDP)  Health Care Index  \\\n",
       "61                                   3.6              60.49   \n",
       "62                                   9.1              74.28   \n",
       "63                                  17.1              68.22   \n",
       "64                                   5.3              36.90   \n",
       "65                                   7.1              47.87   \n",
       "\n",
       "    Health: Physicians (per 1000 pop.) Quantity of Physicians (per 1000 pop.)  \\\n",
       "61                                1.60                              Muy pocos   \n",
       "62                                2.80                                  Pocos   \n",
       "63                                2.60                                  Pocos   \n",
       "64                                2.66                                  Pocos   \n",
       "65                                1.20                              Muy pocos   \n",
       "\n",
       "    Quality Of Life Index  Purchasing Power Index  Safety Index  \\\n",
       "61                 139.27                  116.77         79.34   \n",
       "62                 172.87                   96.85         58.81   \n",
       "63                 179.73                  123.17         51.24   \n",
       "64                   0.00                    3.35         14.72   \n",
       "65                  36.12                   24.77         47.04   \n",
       "\n",
       "    Pop. using improved drinking water: urban(%)  \\\n",
       "61                                          98.0   \n",
       "62                                          99.1   \n",
       "63                                         100.0   \n",
       "64                                          97.5   \n",
       "65                                          94.4   \n",
       "\n",
       "    Pop. using improved drinking water: rural (%)  Pollution index  \\\n",
       "61                                           95.2            58.52   \n",
       "62                                           99.6            34.88   \n",
       "63                                          100.0            31.19   \n",
       "64                                           69.9            72.90   \n",
       "65                                           69.7            88.10   \n",
       "\n",
       "    Life expectancy at birth, total (years)  \n",
       "61                                77.647000  \n",
       "62                                81.256098  \n",
       "63                                78.539024  \n",
       "64                                72.246000  \n",
       "65                                75.241000  "
      ]
     },
     "execution_count": 4,
     "metadata": {},
     "output_type": "execute_result"
    }
   ],
   "source": [
    "df_socio = pd.read_csv(\"../datos/esperanza_de_vida.csv\", index_col=0)\n",
    "df_socio.tail()"
   ]
  },
  {
   "attachments": {},
   "cell_type": "markdown",
   "metadata": {},
   "source": [
    "En este ejercicio de pair programming seguiréis usando el dataset que seleccionasteis ayer.\n",
    "1. ¿Qué diferencia existe el error de tipo I y el error de tipo II?\n"
   ]
  },
  {
   "attachments": {},
   "cell_type": "markdown",
   "metadata": {},
   "source": [
    "`El error de tipo de tipo I es cuando rechazamos una hipótesis nula siendo cierta, mientras que el error de tipos  II es aceptar una hipótesis nula siendo falsa.`"
   ]
  },
  {
   "attachments": {},
   "cell_type": "markdown",
   "metadata": {},
   "source": [
    "2. ¿Qué es la asimetría?\n"
   ]
  },
  {
   "attachments": {},
   "cell_type": "markdown",
   "metadata": {},
   "source": [
    "`La asimetría se da cuando en un histograma tenemos una distribución desigual a ambos lados de la media de la gráfica`"
   ]
  },
  {
   "attachments": {},
   "cell_type": "markdown",
   "metadata": {},
   "source": [
    "3. ¿Es vuestra variable respuesta asimétrica?\n"
   ]
  },
  {
   "cell_type": "code",
   "execution_count": 5,
   "metadata": {},
   "outputs": [
    {
     "data": {
      "image/png": "[encoded data removed]",
      "text/plain": [
       "<Figure size 360x360 with 1 Axes>"
      ]
     },
     "metadata": {
      "needs_background": "light"
     },
     "output_type": "display_data"
    }
   ],
   "source": [
    "sns.displot(x='Life expectancy at birth, total (years)', data=df_socio, kde = True, color = \"purple\");"
   ]
  },
  {
   "attachments": {},
   "cell_type": "markdown",
   "metadata": {},
   "source": [
    "`Como podemos ver en la gráfica de esperanza de vida, nuestra variable respuesta no es nada simétrica; a mayor edad menor esperanza de vida`"
   ]
  },
  {
   "attachments": {},
   "cell_type": "markdown",
   "metadata": {},
   "source": [
    "4. ¿Qué tipo de curtosis presenta vuestra variable respuesta?\n"
   ]
  },
  {
   "cell_type": "code",
   "execution_count": 6,
   "metadata": {},
   "outputs": [
    {
     "data": {
      "text/plain": [
       "KurtosistestResult(statistic=1.2027589468961628, pvalue=0.22906961553990146)"
      ]
     },
     "execution_count": 6,
     "metadata": {},
     "output_type": "execute_result"
    }
   ],
   "source": [
    "kurtosistest(df_socio['Life expectancy at birth, total (years)'])\n",
    "\n",
    "#Nuestra variable respuesta tiene un pvalue de 0,22, por lo que nos indica que es leptocúrtica."
   ]
  },
  {
   "attachments": {},
   "cell_type": "markdown",
   "metadata": {},
   "source": [
    "5. ¿Es vuestra variable respuesta normal? Demostrarlo visual y analíticamente."
   ]
  },
  {
   "cell_type": "code",
   "execution_count": 7,
   "metadata": {},
   "outputs": [
    {
     "data": {
      "text/plain": [
       "ShapiroResult(statistic=0.9383590221405029, pvalue=0.002661803737282753)"
      ]
     },
     "execution_count": 7,
     "metadata": {},
     "output_type": "execute_result"
    }
   ],
   "source": [
    "stats.shapiro(df_socio['Life expectancy at birth, total (years)'])\n",
    "\n",
    "#  En este caso, el *p-valor* < 0.05, por lo tanto podemos rechazar la hipótesis nula, es decir, nuestros datos no son normales.  "
   ]
  },
  {
   "cell_type": "code",
   "execution_count": 8,
   "metadata": {},
   "outputs": [
    {
     "data": {
      "image/png": "[encoded data removed]",
      "text/plain": [
       "<Figure size 360x360 with 1 Axes>"
      ]
     },
     "metadata": {
      "needs_background": "light"
     },
     "output_type": "display_data"
    }
   ],
   "source": [
    "sns.displot(x='Life expectancy at birth, total (years)', data=df_socio, kde = True, color = \"purple\");"
   ]
  },
  {
   "attachments": {},
   "cell_type": "markdown",
   "metadata": {},
   "source": [
    "` Como podemos observar en la gráfica, nuestros datos no siguen un patrón de distribución normal puesto que no representa una campana de Gauss`"
   ]
  }
 ],
 "metadata": {
  "kernelspec": {
   "display_name": "base",
   "language": "python",
   "name": "python3"
  },
  "language_info": {
   "codemirror_mode": {
    "name": "ipython",
    "version": 3
   },
   "file_extension": ".py",
   "mimetype": "text/x-python",
   "name": "python",
   "nbconvert_exporter": "python",
   "pygments_lexer": "ipython3",
   "version": "3.9.7"
  },
  "orig_nbformat": 4
 },
 "nbformat": 4,
 "nbformat_minor": 2
}
